{
 "cells": [
  {
   "cell_type": "code",
   "execution_count": 1,
   "metadata": {},
   "outputs": [],
   "source": [
    "import dash\n",
    "from jupyter_dash import JupyterDash\n",
    "from dash import Dash\n",
    "from dash import dcc\n",
    "from dash import html\n",
    "from dash import dash_table\n",
    "from dash.dependencies import Input, Output, State\n",
    "from dash.exceptions import PreventUpdate\n",
    "\n",
    "import plotly.express as px\n",
    "import datetime as dt\n",
    "import time\n",
    "import numpy as np"
   ]
  },
  {
   "cell_type": "code",
   "execution_count": 2,
   "metadata": {},
   "outputs": [],
   "source": [
    "tab_style = {\n",
    "    'borderBottom': '1px solid #d6d6d6',\n",
    "    'padding': '6px',\n",
    "    'font-size': '30px',\n",
    "    'fontWeight': 'bold'\n",
    "}\n",
    "\n",
    "tab_selected_style = {\n",
    "    'borderTop': '1px solid #d6d6d6',\n",
    "    'borderBottom': '1px solid #d6d6d6',\n",
    "    'backgroundColor': '#000091',\n",
    "    'color': 'white',\n",
    "    'padding': '6px',\n",
    "    'font-size': '30px'\n",
    "}\n",
    "\n",
    "header = {\n",
    "    'font-size': '25px',\n",
    "    'fontWeight': 'bold'\n",
    "}\n",
    "\n",
    "searchBox = {\n",
    "    'width': '100%',\n",
    "    'height': '200px',\n",
    "    'margin-top': '-802px',\n",
    "    'margin-left': '320px',\n",
    "    'borderWidth': '1px',\n",
    "    'borderStyle': 'solid',\n",
    "    'borderRadius': '5px',\n",
    "    'borderColor': '#000091',\n",
    "    'padding-left': '10px'\n",
    "}"
   ]
  },
  {
   "cell_type": "code",
   "execution_count": 3,
   "metadata": {},
   "outputs": [],
   "source": [
    "app = JupyterDash(__name__)\n",
    "app.layout = html.Div(children=[\n",
    "    html.H1(children=['Rent-A-Bike DBMS'], style=header),\n",
    "    html.Div(id='home', className='control_tabs',children=[\n",
    "        dcc.Tabs(id='view_tabs',value='bookings', children=[\n",
    "            dcc.Tab(\n",
    "                label='Bookings',\n",
    "                value='bookings',\n",
    "                style=tab_style,\n",
    "                selected_style=tab_selected_style\n",
    "            ),\n",
    "            dcc.Tab(\n",
    "                label='HR',\n",
    "                value='hr',\n",
    "                style=tab_style,\n",
    "                selected_style=tab_selected_style\n",
    "            )\n",
    "        ])\n",
    "    ])\n",
    "])"
   ]
  },
  {
   "cell_type": "code",
   "execution_count": 6,
   "metadata": {},
   "outputs": [
    {
     "name": "stderr",
     "output_type": "stream",
     "text": [
      " * Running on http://127.0.0.1:8000/ (Press CTRL+C to quit)\n",
      "127.0.0.1 - - [20/Jun/2022 10:31:57] \"GET /_alive_c99aaa73-1fcc-44be-8c92-e3d2094dd6b2 HTTP/1.1\" 200 -\n"
     ]
    },
    {
     "name": "stdout",
     "output_type": "stream",
     "text": [
      "Dash app running on http://127.0.0.1:8000/\n"
     ]
    }
   ],
   "source": [
    "if __name__ == '__main__':\n",
    "    app.run_server(debug=False, mode='external', host='127.0.0.1',port=8000)"
   ]
  },
  {
   "cell_type": "code",
   "execution_count": null,
   "metadata": {},
   "outputs": [],
   "source": []
  }
 ],
 "metadata": {
  "interpreter": {
   "hash": "13abf2c4196656aa22ece865e7175dd2d9eb90308b90dd1641373eed4c9c74fe"
  },
  "kernelspec": {
   "display_name": "Python 3.8.12 ('base')",
   "language": "python",
   "name": "python3"
  },
  "language_info": {
   "codemirror_mode": {
    "name": "ipython",
    "version": 3
   },
   "file_extension": ".py",
   "mimetype": "text/x-python",
   "name": "python",
   "nbconvert_exporter": "python",
   "pygments_lexer": "ipython3",
   "version": "3.8.12"
  },
  "orig_nbformat": 4
 },
 "nbformat": 4,
 "nbformat_minor": 2
}
